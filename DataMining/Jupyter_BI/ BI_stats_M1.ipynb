{
 "cells": [
  {
   "cell_type": "markdown",
   "metadata": {},
   "source": [
    "# Statistiques descriptives et découverte des données\n",
    "## _Business Intelligence, Data analysis and vizualization_"
   ]
  },
  {
   "cell_type": "markdown",
   "metadata": {},
   "source": [
    "Bienvenue sur **Jupyter Notebook** ! Avant de commencer, veillez à bien lire le document qui accompagne ce tutoriel. \n",
    "\n",
    "Le but de cette séance va être de découvrir ce nouvel environnement de travail et de l'appliquer à votre Projet décisonnel. Le tutoriel sera réalisé en Python 🐍   mais ne nécessite pas de connaissances avancées du langage. \n",
    "\n",
    "Ce tutoriel a pour but de:\n",
    "\n",
    "- Vous aider à charger des données et apprendre à les manipuler afin de réaliser des pré-traitements. \n",
    "- Dresser des statistiques descriptives simples, de premier niveau, qui serviront à la compréhension métier mais aussi à vérifier la qualité de vos données. \n",
    "\n",
    "_Il s'agit d'une introduction pour vous aider dans la mise en place des données dans le cadre de votre projet décisionnel. Une séance plus complète dédiée à la manipulation, l'analyse statistique et la production de moyens de visualisation sera effectuée en TP de Statistiques._\n",
    "\n",
    "## Sommaire\n",
    "\n",
    "[1. Les dataframes](#1)\n",
    ">\n",
    "> [1.1 Chargement des données](#1-1)\n",
    ">\n",
    "> [1.2 Premières manipulation](#1-2)\n",
    ">\n",
    "> [1.3 Manipulation de table](#1-3)\n",
    ">\n",
    "[2. Statistiques élémentaires](#2)\n",
    ">\n",
    "> [2.1 Typage des données](#2-1)\n",
    "> \n",
    "> [2.2 Premières analyses univariées](#2-3)\n",
    "> \n",
    "> [2.3 Premières analyses bivariées](#2-3)\n",
    "\n",
    "# Les dataframes<a class=\"anchor\" id=\"1\"></a>\n",
    "\n",
    "## Chargement des données<a class=\"anchor\" id=\"1-1\"></a>\n",
    "\n",
    "_**Il vous est conseillé, si vous le pouvez, d'utiliser lors de cette séance vos sources de données de Projet. Si vous n'en disposez pas, vous pouvez utiliser le fichier .csv disponible**_ `titanic.csv`.\n",
    "\n",
    "Si vous êtes sur **Google Colab**, vous pouvez stocker vos sources de données [https://gist.github.com/](https://gist.github.com/) puis les importer avec la commande suivante:\n",
    "\n",
    "`!wget __lien_fichier__  -O __nom_du_fichier_ -q --show-progress`"
   ]
  },
  {
   "cell_type": "code",
   "execution_count": null,
   "metadata": {},
   "outputs": [],
   "source": [
    "!wget https://gist.githubusercontent.com/Hector-Plasma/93a8d2618622efff14fda3776cf70ecd/raw/c846e14b311d990e2c8f156a3ee2ba3c20379379/titanic.csv  -O titanic.csv -q --show-progress #LEGACY"
   ]
  },
  {
   "cell_type": "markdown",
   "metadata": {},
   "source": [
    "Le fichier `titanic.csv` répertorie différents passagers à bord du célèbre paquebot lors du drame de la nuit du 14 Avril 1912. \n",
    "\n",
    "Les colonnes possèdent la description suivante:\n",
    "\n",
    "|Colonne|Description|Value|\n",
    "|-------|-----------|-----|\n",
    "|`PassengerId`|Id du passager|Int|\n",
    "|`Survived`|Boolean si le passager a survécu au naufrage|{0,1}|\n",
    "|`Pclass`|Classe du passager (1er = 1, ...) |{1,2,3}|\n",
    "|`Name`|Identité du passager|String|\n",
    "|`Sex`|Sexe du passager|{male, female}|\n",
    "|`Age`|Âge du passager|Double|\n",
    "|`SibSp`|Nombre de frères, soeurs ou conjoint à bord|Int|\n",
    "|`Parch`|Nombre d'enfants ou parents à bord|Int|\n",
    "|`Ticket`|Numéro de ticket|Int|\n",
    "|`Fare`|Prix du ticket|Double|\n",
    "|`Cabin`|Numéro de cabine|String|\n",
    "|`Embarked`|Port d'embarquement (C = Cherbourg; Q = Queenstown; S = Southampton)|{C,Q,S}|"
   ]
  },
  {
   "cell_type": "code",
   "execution_count": null,
   "metadata": {},
   "outputs": [],
   "source": [
    "# Importations\n",
    "import pandas as pd\n",
    "import numpy as np\n",
    "import matplotlib.pyplot as plt\n",
    "import matplotlib.ticker as mtick\n",
    "from statsmodels.graphics.mosaicplot import mosaic"
   ]
  },
  {
   "cell_type": "code",
   "execution_count": null,
   "metadata": {},
   "outputs": [],
   "source": [
    "# path = \"\"\n",
    "path = './'\n",
    "df = pd.read_csv(path + 'titanic.csv')\n",
    "df"
   ]
  },
  {
   "cell_type": "markdown",
   "metadata": {},
   "source": [
    "Si la table a été modifiée et que l'on souhaite conserver les nouvelles données, on peut exporter le dataframe au format `.csv` à l'aide de la commande `df.to_csv(r\"_path_\", index=False)`."
   ]
  },
  {
   "cell_type": "markdown",
   "metadata": {},
   "source": [
    "## Premières manipulations<a class=\"anchor\" id=\"1-2\"></a>\n",
    "\n",
    "Soit `df` un dataframe donné, on donne la liste des commandes élémentaires suivantes:\n",
    "\n",
    "- Nombre de ligne et colonnes: `df.shape[0]` (nb lignes) ; `df.shape[1]` (nb colonnes) \n",
    "- Noms des colonnes: `df.columns.values`\n",
    "\n",
    "\n",
    "- **Accès aux données**: \n",
    "    + Accès à la ligne $i$: `df.iloc[i,:]`\n",
    "    + Accès à la colonne $j$: `df.iloc[:,j]`\n",
    "    + Accès à la ligne $i$, colonne $j$: `df.iloc[i,j]`\n",
    "    + Accès à la colonne de nom $n$: `df['n']` ou `df.n`\n",
    "    + Accès à la colonne de nom $n$, ligne $i$: `df['n'][i]` ou `df.n[i]`\n",
    "    \n",
    "    \n",
    "- Tri de la colonne $n$: `df['n'].sort_values()`\n",
    "- Tri du dataframe selon la colonne $n$: `df.sort_values(by='n')`\n",
    "\n",
    "#### Exercices\n",
    "\n",
    "Tester les commandes suivantes sur le fichier `titanic.csv` et décrire leur fonctionnement."
   ]
  },
  {
   "cell_type": "code",
   "execution_count": null,
   "metadata": {},
   "outputs": [],
   "source": [
    "df[['Sex','Age']].head()"
   ]
  },
  {
   "cell_type": "code",
   "execution_count": null,
   "metadata": {},
   "outputs": [],
   "source": [
    "df['Survived'][1:3]"
   ]
  },
  {
   "cell_type": "code",
   "execution_count": null,
   "metadata": {},
   "outputs": [],
   "source": [
    "df.iloc[-1,0]"
   ]
  },
  {
   "cell_type": "code",
   "execution_count": null,
   "metadata": {},
   "outputs": [],
   "source": [
    "df.iloc[df.shape[0]-1,0]"
   ]
  },
  {
   "cell_type": "code",
   "execution_count": null,
   "metadata": {},
   "outputs": [],
   "source": [
    "df.iloc[0:5,:]"
   ]
  },
  {
   "cell_type": "code",
   "execution_count": null,
   "metadata": {},
   "outputs": [],
   "source": [
    "df.iloc[0:5,[0,2,4]]"
   ]
  },
  {
   "cell_type": "markdown",
   "metadata": {},
   "source": [
    "- Supression la ligne $i$: `df.drop([i])`\n",
    "- Supression la colonne $j$: `df.drop([j], axis = 1)`\n",
    "- Supression des lignes avec des valeurs nulles: `df.dropna()`\n",
    "\n",
    "- Filtrage selon une condition $\\varphi$: `df.loc[df[phi, :]]`\n",
    "\n",
    "    Où $\\varphi$ est une formule logique exprimée sur les colonnes de `df` à l'aide des opérateurs booléens `&`(ET), `|` (OU) et `~` (NON). \n",
    "    \n",
    "#### Exemples"
   ]
  },
  {
   "cell_type": "code",
   "execution_count": null,
   "metadata": {},
   "outputs": [],
   "source": [
    "# Liste des Femmes sur pacquebot\n",
    "\n",
    "df.loc[df['Sex']==\"female\", :]"
   ]
  },
  {
   "cell_type": "code",
   "execution_count": null,
   "metadata": {},
   "outputs": [],
   "source": [
    "# Liste des Hommes de plus de 30 ans sur le pacquebot de 1er et 2nd classes\n",
    "\n",
    "# On retient les Colonnes Survived, Pclass, Name, Sex, Age\n",
    "colonnes = ['Survived', 'Pclass', 'Name', 'Sex', 'Age']\n",
    "\n",
    "df.loc[(df['Sex']==\"male\") & (df['Age'] >= 30) & (df['Pclass'].isin([1,2])), colonnes]"
   ]
  },
  {
   "cell_type": "markdown",
   "metadata": {},
   "source": [
    "## Manipulation de tables <a class=\"anchor\" id=\"1-3\"></a>\n",
    "\n",
    "La modification d'une valeur au sein d'un dataframe se fait simplement par ré-affectation comme on pourrait le faire au sein d'une liste ou d'un tableau. \n",
    "\n",
    "#### Exercice\n",
    "\n",
    "Supposons le dataframe `T` crée par la commande suivante:"
   ]
  },
  {
   "cell_type": "code",
   "execution_count": null,
   "metadata": {},
   "outputs": [
    {
     "data": {
      "text/html": [
       "<div>\n",
       "<style scoped>\n",
       "    .dataframe tbody tr th:only-of-type {\n",
       "        vertical-align: middle;\n",
       "    }\n",
       "\n",
       "    .dataframe tbody tr th {\n",
       "        vertical-align: top;\n",
       "    }\n",
       "\n",
       "    .dataframe thead th {\n",
       "        text-align: right;\n",
       "    }\n",
       "</style>\n",
       "<table border=\"1\" class=\"dataframe\">\n",
       "  <thead>\n",
       "    <tr style=\"text-align: right;\">\n",
       "      <th></th>\n",
       "      <th>A</th>\n",
       "      <th>B</th>\n",
       "      <th>C</th>\n",
       "    </tr>\n",
       "  </thead>\n",
       "  <tbody>\n",
       "    <tr>\n",
       "      <td>0</td>\n",
       "      <td>1</td>\n",
       "      <td>2.0</td>\n",
       "      <td>1.0</td>\n",
       "    </tr>\n",
       "    <tr>\n",
       "      <td>1</td>\n",
       "      <td>2</td>\n",
       "      <td>10.0</td>\n",
       "      <td>NaN</td>\n",
       "    </tr>\n",
       "    <tr>\n",
       "      <td>2</td>\n",
       "      <td>3</td>\n",
       "      <td>9.0</td>\n",
       "      <td>1.0</td>\n",
       "    </tr>\n",
       "    <tr>\n",
       "      <td>3</td>\n",
       "      <td>4</td>\n",
       "      <td>0.0</td>\n",
       "      <td>NaN</td>\n",
       "    </tr>\n",
       "    <tr>\n",
       "      <td>4</td>\n",
       "      <td>5</td>\n",
       "      <td>NaN</td>\n",
       "      <td>1.0</td>\n",
       "    </tr>\n",
       "    <tr>\n",
       "      <td>5</td>\n",
       "      <td>6</td>\n",
       "      <td>1.0</td>\n",
       "      <td>NaN</td>\n",
       "    </tr>\n",
       "  </tbody>\n",
       "</table>\n",
       "</div>"
      ],
      "text/plain": [
       "   A     B    C\n",
       "0  1   2.0  1.0\n",
       "1  2  10.0  NaN\n",
       "2  3   9.0  1.0\n",
       "3  4   0.0  NaN\n",
       "4  5   NaN  1.0\n",
       "5  6   1.0  NaN"
      ]
     },
     "execution_count": null,
     "metadata": {},
     "output_type": "execute_result"
    }
   ],
   "source": [
    "T = pd.DataFrame({'A': range(1,7), 'B': [2, 10, 9, 0, np.nan, 1], 'C': [1,np.nan]*3})\n",
    "\n",
    "T"
   ]
  },
  {
   "cell_type": "markdown",
   "metadata": {},
   "source": [
    "1. Modifier la valeur située dernière ligne, colonne 1 de `T` par la valeur 10. "
   ]
  },
  {
   "cell_type": "code",
   "execution_count": null,
   "metadata": {},
   "outputs": [],
   "source": []
  },
  {
   "cell_type": "markdown",
   "metadata": {},
   "source": [
    "2. On peut détecter si une valeur possède la valeur nulle grâce à la commande `np.isnan()`. Afficher uniquement les lignes de `T` qui ne contiennent pas de valeur nulles `NaN` dans la colonne **C**."
   ]
  },
  {
   "cell_type": "code",
   "execution_count": null,
   "metadata": {},
   "outputs": [],
   "source": []
  },
  {
   "cell_type": "markdown",
   "metadata": {},
   "source": [
    "3. La commande `np.where(phi, x, y)` permet de retourner une liste numpy composée de `x` et `y` selon la condition $\\varphi$ évaluée. \n",
    "    \n",
    "    Par exemple, `np.where((T['A'] % 2) == 1, 0, T['A'])` retourne `[0, 2, 0, 4, 0, 6]`. \n",
    "\n",
    "    Dans la colonne **B**, remplacer toutes les valeurs $\\geq$ 5 par la valeur 20."
   ]
  },
  {
   "cell_type": "code",
   "execution_count": null,
   "metadata": {},
   "outputs": [],
   "source": []
  },
  {
   "cell_type": "markdown",
   "metadata": {},
   "source": [
    "4. Écrire une fonction permettant de remplacer toutes les valeurs `NaN` de `T` par la valeur 0."
   ]
  },
  {
   "cell_type": "code",
   "execution_count": null,
   "metadata": {},
   "outputs": [],
   "source": []
  },
  {
   "cell_type": "markdown",
   "metadata": {},
   "source": [
    "On désire ajouter une nouvelle `D` colonne à notre dataframe. Pourvu que l'on dispose de la liste (numpy ou liste Python classique) `L` correspondante à la colonne, celle-ci peut être rajoutée simplement comme suit: \n",
    "\n",
    "`T[D] = L`\n",
    "\n",
    "Ceci est particulièrement pratique par exemple pour discrétiser des colonnes numériques. \n",
    "\n",
    "5. Écrire le code permettant d'ajouter la colonne `D`, où chaque ligne correspond à la moyenne des précédentes colonnes. Par exemple, la première ligne de `D` sera égale à $(1 + 2 + 1)/ 3 = 4/3 = 1.333...$.\n",
    "\n",
    "On pourra s'aider de la commande `np.mean(L)` qui donne la moyenne d'une liste `L` de nombres.  "
   ]
  },
  {
   "cell_type": "markdown",
   "metadata": {},
   "source": [
    "# Statistiques élémentaires<a class=\"anchor\" id=\"2\"></a>\n",
    "\n",
    "## Typage des données<a class=\"anchor\" id=\"2-1\"></a>\n",
    "\n",
    "La librairie _Pandas_ qui gère les dataframes permet d'établir rapidement des statistiques de préliminaires (moyenne, écart-type, mediane, quantile, fréquence) sur les tableaux de données. \n",
    "Pour se faire, on utilise la commande `describe`. "
   ]
  },
  {
   "cell_type": "code",
   "execution_count": null,
   "metadata": {},
   "outputs": [],
   "source": [
    "df.describe(include='all')"
   ]
  },
  {
   "cell_type": "markdown",
   "metadata": {},
   "source": [
    "Comme vous pouvez le remarquer, Python a mal inféré le type de certaines colonnes: `PassengerId`, `Survived` et `Pclass` sont des variables qualitatives et non quantitatives et ne doivent pas être interprêtées comme des nombres ! \n",
    "\n",
    "**_Il est vivement recommandé de bien affecter les bons types à chaque variable ne serait-ce que pour éviter de faire des opérations douteuses, par exemple arithmétiques sur des id ou des modalités non numériques._**\n",
    "\n",
    "On va ré-attribuer ici les bons types à chaque colonne de notre dataframe. "
   ]
  },
  {
   "cell_type": "code",
   "execution_count": null,
   "metadata": {},
   "outputs": [],
   "source": [
    "df['PassengerId']=pd.Categorical(df[\"PassengerId\"],ordered=False)\n",
    "df[\"Survived\"]=pd.Categorical(df[\"Survived\"],ordered=False)\n",
    "df[\"Pclass\"]=pd.Categorical(df[\"Pclass\"],ordered=True, categories=[1, 2, 3])\n",
    "df.dtypes"
   ]
  },
  {
   "cell_type": "markdown",
   "metadata": {},
   "source": [
    "Également, on peut doter une variable qualitative (ou catégorielle)  d'une relation d'ordre indiquant une certaine hiérarchie entre les éléments. C'est le cas par exemple des classes de voyage de la colonne `Pclass`."
   ]
  },
  {
   "cell_type": "code",
   "execution_count": null,
   "metadata": {},
   "outputs": [],
   "source": [
    "# Vérification des types et informations sur le dataframe\n",
    "df.info()"
   ]
  },
  {
   "cell_type": "markdown",
   "metadata": {},
   "source": [
    "La commande précédente permet d'obtenir une vue macroscopique des données. On peut également obtenir la fréquence éléments des variables qualitatives à l'aide de la commande. `value_counts()`. "
   ]
  },
  {
   "cell_type": "code",
   "execution_count": null,
   "metadata": {},
   "outputs": [],
   "source": [
    "# Obtention de la fréquence des modalités de `Survived`, on dépose les résultats dans un dictionnaire\n",
    "df.Survived.value_counts().to_dict()"
   ]
  },
  {
   "cell_type": "markdown",
   "metadata": {},
   "source": [
    "Si l'on souhaite l'analyse en fonction des valeurs des variables, on utilisera la commande `groupby` qui permet d'accéder aux sous-DataFrame associés à chaque item de la variable de regroupement.\n",
    "Il est dès lors possible d'appliquer explicitement d'autres traitements sur ces sous-ensembles de données."
   ]
  },
  {
   "cell_type": "code",
   "execution_count": null,
   "metadata": {},
   "outputs": [],
   "source": [
    "g = df.groupby('Pclass')\n",
    "\n",
    "g[['Age','Fare']].agg([pd.Series.mean,pd.Series.std])"
   ]
  },
  {
   "cell_type": "markdown",
   "metadata": {},
   "source": [
    "## Premières analyses univariées <a class=\"anchor\" id=\"2-2\"></a>\n",
    "\n",
    "Un des premiers réflexes lors de l'analyse de données consiste à observer la **distribution des valeurs** de chaque  variable. \n",
    "\n",
    "Pour se faire, on utilise classiquement un _histogramme_ pour les variables numériques (quantitatives) et des _graphiques à barres_ pour les variables qualitatives. "
   ]
  },
  {
   "cell_type": "code",
   "execution_count": null,
   "metadata": {},
   "outputs": [],
   "source": [
    "df.hist(column='Age')\n",
    "\n",
    "# Estimation par noyau gaussien\n",
    "# df['Age'].plot.kde() "
   ]
  },
  {
   "cell_type": "markdown",
   "metadata": {},
   "source": [
    "On peut également définir des variables d'agrégation pour obtenir plusieurs graphiques.  "
   ]
  },
  {
   "cell_type": "code",
   "execution_count": null,
   "metadata": {},
   "outputs": [],
   "source": [
    "df.hist(column='Age', by='Pclass')"
   ]
  },
  {
   "cell_type": "markdown",
   "metadata": {},
   "source": [
    "Et même faire des boîtes à moustaches ! "
   ]
  },
  {
   "cell_type": "code",
   "execution_count": null,
   "metadata": {},
   "outputs": [],
   "source": [
    "df.boxplot(column='Fare', by='Survived')"
   ]
  },
  {
   "cell_type": "markdown",
   "metadata": {},
   "source": [
    "Ou des diagrammes en barres. "
   ]
  },
  {
   "cell_type": "code",
   "execution_count": null,
   "metadata": {},
   "outputs": [],
   "source": [
    "df['Pclass'].sort_values().value_counts().plot.bar()"
   ]
  },
  {
   "cell_type": "markdown",
   "metadata": {},
   "source": [
    "#### Exercice\n",
    "\n",
    "\n",
    "Pour chaque question, donner un moyen de représentation de la variable étudiée et commenter les résultats. \n",
    "\n",
    "1. Dresser la distribution des âges des survivants au naufrage. "
   ]
  },
  {
   "cell_type": "code",
   "execution_count": null,
   "metadata": {},
   "outputs": [],
   "source": []
  },
  {
   "cell_type": "markdown",
   "metadata": {},
   "source": [
    "2. Combien de passagers ont embarqué dans chacun des ports ? "
   ]
  },
  {
   "cell_type": "code",
   "execution_count": null,
   "metadata": {},
   "outputs": [],
   "source": []
  },
  {
   "cell_type": "markdown",
   "metadata": {},
   "source": [
    "3. Quel est le prix moyen et l'écart-type d'un billet à bord du Titanic ? Dans chacune des classes ? Donner aussi le maximum et le minimum"
   ]
  },
  {
   "cell_type": "code",
   "execution_count": null,
   "metadata": {},
   "outputs": [],
   "source": []
  },
  {
   "cell_type": "markdown",
   "metadata": {},
   "source": [
    "4. Quelles sont les proportions hommes/femmes avant et après le naufrage ? \n",
    "\n",
    "On visualisera ces proportions à l'aide d'un diagramme empilé produit grâce au code donné ci-dessous:"
   ]
  },
  {
   "cell_type": "code",
   "execution_count": null,
   "metadata": {},
   "outputs": [],
   "source": [
    "def stackplot(df, groupVar) : \n",
    "    df.assign(dummy = 1).groupby(\n",
    "      ['dummy',groupVar]\n",
    "    ).size().groupby(level=0).apply(\n",
    "    lambda x: 100 * x / x.sum()\n",
    "    ).to_frame().unstack().plot(kind='bar',stacked=True,legend=True)\n",
    "\n",
    "    # Pour ne pas imprimer la variable dummy\n",
    "    plt.xlabel(groupVar)\n",
    "\n",
    "    # Désactive l'axe des x\n",
    "    plt.xticks([])\n",
    "\n",
    "    _, correct_labels = plt.gca().get_legend_handles_labels()\n",
    "    correct_labels = [t[t.index(', ') + 1:len(t)-1] for t in correct_labels]\n",
    "    plt.legend(correct_labels)\n",
    "\n",
    "    plt.gca().yaxis.set_major_formatter(mtick.PercentFormatter())\n",
    "\n",
    "    plt.show()"
   ]
  },
  {
   "cell_type": "markdown",
   "metadata": {},
   "source": [
    "Où `df` est le dataframe considéré et `groupVar` la variable de groupement dont les valeurs sont empilées. "
   ]
  },
  {
   "cell_type": "code",
   "execution_count": null,
   "metadata": {},
   "outputs": [],
   "source": []
  },
  {
   "cell_type": "markdown",
   "metadata": {},
   "source": [
    "5. Donner le nombre de passagers dans chaque classe avant et après le naufrage. "
   ]
  },
  {
   "cell_type": "code",
   "execution_count": null,
   "metadata": {},
   "outputs": [],
   "source": []
  },
  {
   "cell_type": "markdown",
   "metadata": {},
   "source": [
    "## Premières analyses bivariées <a class=\"anchor\" id=\"2-3\"></a>\n",
    "\n",
    "Les précédentes analyses mises en place se sont concentrées sur l'étude de 1 variable à la fois. \n",
    "\n",
    "Les analyses bivariées étudient 2 variables conjointement. En fonction de leur nature (quantitative / qualitative), on utilisera différents moyens de visualisation (graphique à points, tableau de contingence, boîtes à moustaches). \n",
    "\n",
    "On commence par l'étude de deux variables quantitatives. Une étude classique effectuée est la recherche de corrélation entre ces deux variables ; nous reviendrons sur ces considérations plus en détails lors du cours de Statistiques. \n",
    "Une méthode simple pour observer une corrélation entre variables et de visualiser le nuage de points correspondant et de regarder qui ceux-ci s'ajustent autour d'une droite. "
   ]
  },
  {
   "cell_type": "code",
   "execution_count": null,
   "metadata": {},
   "outputs": [],
   "source": [
    "df.plot(kind=\"scatter\",x=\"Age\", y=\"Fare\")"
   ]
  },
  {
   "cell_type": "markdown",
   "metadata": {},
   "source": [
    "Ici, la corrélation entre les variable `Fare` et `Age` semble très faible, voire absente.\n",
    "\n",
    "On peut ajouter également une couleur aux points pour plus d'information. Par exemple la variable `Survived`. "
   ]
  },
  {
   "cell_type": "code",
   "execution_count": null,
   "metadata": {},
   "outputs": [],
   "source": [
    "code_survie = df['Survived'].astype('int')\n",
    "\n",
    "df.plot(kind=\"scatter\", x=\"Age\", y=\"Fare\", c=pd.Series(['blue','green'])[code_survie])"
   ]
  },
  {
   "cell_type": "markdown",
   "metadata": {},
   "source": [
    "Lorsque les points se chevauchent beaucoup, on peut utiliser un pavage de Kohonen.\n",
    "\n",
    "On peut aussi régler les axes pour faire un zoom sur une portion du graphique à l'aide des commandes `xlim` et `ylim`. "
   ]
  },
  {
   "cell_type": "code",
   "execution_count": null,
   "metadata": {},
   "outputs": [],
   "source": [
    "df.plot.hexbin(x=\"Age\", y=\"Fare\",xlim = [0, 70], ylim =[0, 200], gridsize=25)"
   ]
  },
  {
   "cell_type": "markdown",
   "metadata": {},
   "source": [
    "Pour croiser deux variables quantitatives, on utilise les tables de contingence. "
   ]
  },
  {
   "cell_type": "code",
   "execution_count": null,
   "metadata": {},
   "outputs": [],
   "source": [
    "table = pd.crosstab(df[\"Survived\"],df[\"Pclass\"])\n",
    "print(table)"
   ]
  },
  {
   "cell_type": "markdown",
   "metadata": {},
   "source": [
    "Une telle table peut ensuite être visualisée à l'aide d'un diagramme mosaïque comme suit:"
   ]
  },
  {
   "cell_type": "code",
   "execution_count": null,
   "metadata": {},
   "outputs": [],
   "source": [
    "from statsmodels.graphics.mosaicplot import mosaic\n",
    "\n",
    "mosaic(df,[\"Survived\",\"Pclass\"], gap=0.05)\n",
    "plt.show()"
   ]
  },
  {
   "cell_type": "markdown",
   "metadata": {},
   "source": [
    "- La largeur d'une case donne la proportion de la variable en $X$ (ici 0 ou 1). \n",
    "\n",
    "- La hauteur d'une case donnent la proportion des modalités de $Y$ sachant les modalités de $X$. \n",
    "\n",
    "- La surface des cases de ce graphique donnent la proportion d'observations conjointes des modalités des variables $X$ et $Y$ considérées. "
   ]
  }
 ],
 "metadata": {
  "kernelspec": {
   "display_name": "Python 3",
   "language": "python",
   "name": "python3"
  },
  "language_info": {
   "codemirror_mode": {
    "name": "ipython",
    "version": 3
   },
   "file_extension": ".py",
   "mimetype": "text/x-python",
   "name": "python",
   "nbconvert_exporter": "python",
   "pygments_lexer": "ipython3",
   "version": "3.7.0"
  }
 },
 "nbformat": 4,
 "nbformat_minor": 4
}
